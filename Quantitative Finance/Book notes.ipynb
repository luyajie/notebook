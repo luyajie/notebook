{
 "cells": [
  {
   "cell_type": "markdown",
   "metadata": {},
   "source": [
    "# Chapter1 Security\n",
    "\n",
    "## Forward\n",
    "\n",
    "The forward linked spot and interest rate.\n",
    "\n",
    "$F = S(t)e^{r(T-t)}$\n",
    "\n",
    "## No arbitrage\n",
    "\n",
    "## Futures\n",
    "\n",
    "### Commodity\n",
    "\n",
    "$F = S(t)e^{(r+s-c)(T-t)}$\n",
    "\n",
    "- convenience yield $c$\n",
    "- backwardation, $F<S(t)e^{r(T-t)}$\n",
    "- contango, $F>S(t)e^{r(T-t)}$\n",
    "\n",
    "### FX future\n",
    "\n",
    "$F = S(t)e^{(r-r_f)(T-t)}$\n",
    "\n",
    "### Index future\n",
    "\n",
    "$F = S(t)e^{(r-q)(T-t)}$\n"
   ]
  },
  {
   "cell_type": "markdown",
   "metadata": {},
   "source": [
    "# Chapter2 Derivatives\n",
    "\n",
    "## Options\n",
    "\n",
    "- Payoff function\n",
    "\n",
    "![Payoff](https://upload.wikimedia.org/wikipedia/commons/1/1b/Option_value.gif)\n",
    "\n",
    "### Common terms\n",
    "\n",
    "- Premium: The amount paid for the contract initially\n",
    "- Underlying ($S$): The financial instrument on which the option value depends. Stocks, commodities, currencies and indices are going to be denoted by $S$.\n",
    "- Strike ($E$): The amount for which the underlying can be bought (call) or sold (put). Denoted by $E$ \n",
    "- Expiry ($T$): Date on which the option can be exercised or date on which the option ceases to exist or give the holder any rights.\n",
    "- Intrinsic value: The payoff that would be received if the underlying is at its currentlevel when the option expires\n",
    "- Time value: Any value that the option has above its intrinsic value\n",
    "- In the money: An option with positive intrinsic value\n",
    "- Our of the money: An option with no intrinsic value, only time value.\n",
    "- At the money: A call or put with a strike that is close to the current asset level\n",
    "\n",
    "### Payoff and PnL diagram\n",
    "\n",
    "As it stands, this profit diagram takes no account of the time value of money. The premium is paid up front but the payoff, if any, is only received at expiry. To be consistent one should either discount the payoff by multiplying by e −r(T−t) to value everything at the present, or multiply the premium by e r(T−t) to value all cashflows at expiry.\n",
    "\n",
    "### Factors affrection the derivative price\n",
    "\n",
    "The most important: *Spot* amd *Expiry*  <------ **variables**\n",
    "\n",
    "*interest rate* and *strike* are just parameters    <------ **parameters**  \n",
    "\n",
    "Other parameters: *dividend*, *fx interest* and **volatility**!\n",
    "\n",
    "### Put-Call Parity\n",
    "\n",
    "$$C-P = S - Ee^{-r(T-t)}$$\n",
    "\n",
    "### Binaries and digitals\n",
    "\n",
    "$$C + P = e^{-r(T-t)}$$\n",
    "\n",
    "### Bull and bear spread\n",
    "\n",
    "$$\\frac{1}{E_2-E_1}(max(S-E_1, 0) - max(S-E_2, 0))$$\n",
    "\n",
    "### Straddle and Strangle\n",
    "\n",
    "### Risk Reversal\n",
    "\n",
    "### Calendar Spread\n"
   ]
  },
  {
   "cell_type": "markdown",
   "metadata": {
    "collapsed": true
   },
   "source": [
    "# Chapter 3 The binomial model\n",
    "\n",
    "Hedging and No arbitrage\n",
    "\n",
    "- We have a stoc and a call option that expiring tommorow\n",
    "- Interest rate is zero\n",
    "- The stock can go up or down tomorrow\n",
    "\n",
    "Option payoffs can be replicated by stocks and cash.Any two points on\n",
    "the straight lines can be used to get us to any other point. So, we can get a risk-free\n",
    "investment using the option and the stock, and this is hedging. And, the stock can be\n",
    "replicated by cash and the option.\n",
    "\n",
    "## Complete markets\n",
    "\n",
    "The practical implication of complete markets is that options are hedgeable and can therefore be priced without any need to know probabilities.\n",
    "\n"
   ]
  }
 ],
 "metadata": {
  "kernelspec": {
   "display_name": "Python 3",
   "language": "python",
   "name": "python3"
  },
  "language_info": {
   "codemirror_mode": {
    "name": "ipython",
    "version": 3
   },
   "file_extension": ".py",
   "mimetype": "text/x-python",
   "name": "python",
   "nbconvert_exporter": "python",
   "pygments_lexer": "ipython3",
   "version": "3.5.2"
  }
 },
 "nbformat": 4,
 "nbformat_minor": 2
}
