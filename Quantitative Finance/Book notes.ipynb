{
 "cells": [
  {
   "cell_type": "markdown",
   "metadata": {},
   "source": [
    "# Chapter1 Security\n",
    "\n",
    "## Forward\n",
    "\n",
    "The forward linked spot and interest rate.\n",
    "\n",
    "$F = S(t)e^{r(T-t)}$\n",
    "\n",
    "## No arbitrage\n",
    "\n",
    "## Futures\n",
    "\n",
    "### Commodity\n",
    "\n",
    "$F = S(t)e^{(r+s-c)(T-t)}$\n",
    "\n",
    "- convenience yield $c$\n",
    "- backwardation, $F<S(t)e^{r(T-t)}$\n",
    "- contango, $F>S(t)e^{r(T-t)}$\n",
    "\n",
    "### FX future\n",
    "\n",
    "$F = S(t)e^{(r-r_f)(T-t)}$\n",
    "\n",
    "### Index future\n",
    "\n",
    "$F = S(t)e^{(r-q)(T-t)}$\n"
   ]
  },
  {
   "cell_type": "markdown",
   "metadata": {},
   "source": [
    "# Chapter2 Derivatives\n",
    "\n",
    "## Options\n",
    "\n",
    "- Payoff function\n",
    "\n",
    "![Payoff](https://upload.wikimedia.org/wikipedia/commons/1/1b/Option_value.gif)\n",
    "\n",
    "### Common terms\n",
    "\n",
    "- Premium: The amount paid for the contract initially\n",
    "- Underlying ($S$): The financial instrument on which the option value depends. Stocks, commodities, currencies and indices are going to be denoted by $S$.\n",
    "- Strike ($E$): The amount for which the underlying can be bought (call) or sold (put). Denoted by $E$ \n",
    "- Expiry ($T$): Date on which the option can be exercised or date on which the option ceases to exist or give the holder any rights.\n",
    "- Intrinsic value: The payoff that would be received if the underlying is at its currentlevel when the option expires\n",
    "- Time value: Any value that the option has above its intrinsic value\n",
    "- In the money: An option with positive intrinsic value\n",
    "- Our of the money: An option with no intrinsic value, only time value.\n",
    "- At the money: A call or put with a strike that is close to the current asset level\n",
    "\n",
    "### Payoff and PnL diagram\n",
    "\n",
    "As it stands, this profit diagram takes no account of the time value of money. The premium is paid up front but the payoff, if any, is only received at expiry. To be consistent one should either discount the payoff by multiplying by e −r(T−t) to value everything at the present, or multiply the premium by e r(T−t) to value all cashflows at expiry.\n"
   ]
  },
  {
   "cell_type": "code",
   "execution_count": null,
   "metadata": {
    "collapsed": true
   },
   "outputs": [],
   "source": []
  }
 ],
 "metadata": {
  "kernelspec": {
   "display_name": "Python 3",
   "language": "python",
   "name": "python3"
  },
  "language_info": {
   "codemirror_mode": {
    "name": "ipython",
    "version": 3
   },
   "file_extension": ".py",
   "mimetype": "text/x-python",
   "name": "python",
   "nbconvert_exporter": "python",
   "pygments_lexer": "ipython3",
   "version": "3.5.3"
  }
 },
 "nbformat": 4,
 "nbformat_minor": 2
}
