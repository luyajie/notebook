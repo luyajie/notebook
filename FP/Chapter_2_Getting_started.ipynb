{
 "cells": [
  {
   "cell_type": "markdown",
   "metadata": {},
   "source": [
    "# 2 Getting started\n",
    "\n",
    "## Introduction\n",
    "\n",
    "**Higher-order functions**: takes other functions as arguments, and may return functions as the output.\n",
    "\n",
    "## Example Scala Program"
   ]
  },
  {
   "cell_type": "code",
   "execution_count": 5,
   "metadata": {},
   "outputs": [
    {
     "data": {
      "text/plain": [
       "defined \u001b[32mobject\u001b[39m \u001b[36mMyModular\u001b[39m"
      ]
     },
     "execution_count": 5,
     "metadata": {},
     "output_type": "execute_result"
    }
   ],
   "source": [
    "// A comment\n",
    "/* Another comment */\n",
    "/** A documentation comment */\n",
    "\n",
    "object MyModular {\n",
    "\n",
    "    def abs(n: Int): Int = \n",
    "        if (n < 0) -n\n",
    "        else n\n",
    "    \n",
    "    private def formatAbs(x: Int) = {\n",
    "        val msg = \"The absolute value of %d is %d\"\n",
    "        msg.format(x, abs(x))\n",
    "    }\n",
    "    \n",
    "    def main(args: Array[String]): Unit = \n",
    "        println(formatAbs(-42))\n",
    "}"
   ]
  },
  {
   "cell_type": "code",
   "execution_count": 6,
   "metadata": {},
   "outputs": [
    {
     "name": "stdout",
     "output_type": "stream",
     "text": [
      "The absolute value of -42 is 42\n"
     ]
    }
   ],
   "source": [
    "MyModular.main(Array())"
   ]
  },
  {
   "cell_type": "markdown",
   "metadata": {},
   "source": [
    "## 2.4 Modular, objects and namespaces\n",
    "\n",
    "A *object* whose primary purpose is giving its members a namespace is sometimes called a *modular*\n",
    "\n",
    "\n",
    "## 2.5 Funxiton objects\n",
    "\n",
    "A example to write loop without mutation:"
   ]
  },
  {
   "cell_type": "code",
   "execution_count": 9,
   "metadata": {},
   "outputs": [
    {
     "data": {
      "text/plain": [
       "defined \u001b[32mfunction\u001b[39m \u001b[36mfactorial\u001b[39m\n",
       "defined \u001b[32mfunction\u001b[39m \u001b[36mabs\u001b[39m\n",
       "\u001b[36mres8_2\u001b[39m: \u001b[32mInt\u001b[39m = \u001b[32m3628800\u001b[39m"
      ]
     },
     "execution_count": 9,
     "metadata": {},
     "output_type": "execute_result"
    }
   ],
   "source": [
    "def factorial(n: Int): Int = {\n",
    "    def go(n: Int, acc: Int): Int = \n",
    "        if (n <=0 ) acc\n",
    "        else go(n-1, n*acc)\n",
    "\n",
    "    go(n, 1)\n",
    "}\n",
    "\n",
    "def abs(n: Int): Int = {\n",
    "    if (n <= 0) -n\n",
    "    else n\n",
    "}\n",
    "\n",
    "factorial(10)"
   ]
  },
  {
   "cell_type": "code",
   "execution_count": 12,
   "metadata": {},
   "outputs": [
    {
     "name": "stdout",
     "output_type": "stream",
     "text": [
      "The absolutie value of -42 is 42\n",
      "The factorial of 7 is 5040\n",
      "The increment of 7 is 8\n"
     ]
    },
    {
     "data": {
      "text/plain": [
       "defined \u001b[32mfunction\u001b[39m \u001b[36mformatResult\u001b[39m\n",
       "defined \u001b[32mfunction\u001b[39m \u001b[36mmain\u001b[39m"
      ]
     },
     "execution_count": 12,
     "metadata": {},
     "output_type": "execute_result"
    }
   ],
   "source": [
    "// exercise\n",
    "def formatResult(name: String, n: Int, f: Int => Int) = {\n",
    "    val msg = \"The %s of %d is %s\"\n",
    "    msg.format(name, n, f(n))\n",
    "}\n",
    "\n",
    "def main(args: Array[String]): Unit = {\n",
    "    println(formatResult(\"absolutie value\", -42, abs))\n",
    "    println(formatResult(\"factorial\", 7, factorial))\n",
    "    // annonymous functions\n",
    "    println(formatResult(\"increment\", 7, (x: Int) => x + 1))\n",
    "}\n",
    "\n",
    "main(Array())"
   ]
  },
  {
   "cell_type": "code",
   "execution_count": 16,
   "metadata": {},
   "outputs": [
    {
     "data": {
      "text/plain": [
       "defined \u001b[32mfunction\u001b[39m \u001b[36mbinarySearch\u001b[39m\n",
       "defined \u001b[32mfunction\u001b[39m \u001b[36mbinarySearchP\u001b[39m"
      ]
     },
     "execution_count": 16,
     "metadata": {},
     "output_type": "execute_result"
    }
   ],
   "source": [
    "// Polymorphic functions (without)\n",
    "def binarySearch(ds: Array[Double], key: Double): Int = {\n",
    "    @annotation.tailrec\n",
    "    def go(low: Int, mid: Int, high: Int): Int = {\n",
    "        if (low > high) -mid-1\n",
    "        else {\n",
    "            val mid2 = (low + high) / 2\n",
    "            val d = ds(mid2)\n",
    "            if (d == key) mid2\n",
    "            else if (d > key) go(low, mid2, mid2-1)\n",
    "            else go(mid2+1, mid2, high)\n",
    "        }\n",
    "    }\n",
    "    \n",
    "    go(0, 0, ds.length - 1)\n",
    "}\n",
    "\n",
    "// Polymorphic version\n",
    "def binarySearchP[A](as: Array[A], key: A, gt: (A, A) => Boolean): Int = {\n",
    "    @annotation.tailrec\n",
    "    def go(low: Int, mid: Int, high: Int): Int = {\n",
    "        if (low > high) -mid-1\n",
    "        else {\n",
    "            val mid2 = (low + high) / 2\n",
    "            val a = as(mid2)\n",
    "            val greater = gt(a, key)\n",
    "            if (!greater && !gt(a, key)) mid2\n",
    "            else if (greater) go(low, mid2, mid2-1)\n",
    "            else go(mid2+1, mid2, high)\n",
    "        }\n",
    "    }\n",
    "\n",
    "    go(0, 0, as.length - 1)\n",
    "}"
   ]
  },
  {
   "cell_type": "code",
   "execution_count": 22,
   "metadata": {},
   "outputs": [
    {
     "data": {
      "text/plain": [
       "defined \u001b[32mfunction\u001b[39m \u001b[36misSorted\u001b[39m"
      ]
     },
     "execution_count": 22,
     "metadata": {},
     "output_type": "execute_result"
    }
   ],
   "source": [
    "// exercise2\n",
    "def isSorted[A](as: Array[A], gt: (A, A) => Boolean): Boolean = {\n",
    "    @annotation.tailrec\n",
    "    def go(n: Int): Boolean = {  // Loop to the end,,,,\n",
    "        if (n >= as.length - 1) true\n",
    "        else if (gt(as(n), as(n+1))) false\n",
    "        else go(n+1)\n",
    "    }\n",
    "    \n",
    "    go(0)  // start loop from 0\n",
    "}"
   ]
  },
  {
   "cell_type": "code",
   "execution_count": 19,
   "metadata": {},
   "outputs": [
    {
     "data": {
      "text/plain": [
       "defined \u001b[32mfunction\u001b[39m \u001b[36mpartial1\u001b[39m"
      ]
     },
     "execution_count": 19,
     "metadata": {},
     "output_type": "execute_result"
    }
   ],
   "source": [
    "// exercise3\n",
    "// Implement *partial1* and write down a concrete usage of it\n",
    "def partial1[A, B, C](a: A, f: (A, B) => C): B => C = (b: B) => f(a, b)"
   ]
  },
  {
   "cell_type": "code",
   "execution_count": 23,
   "metadata": {},
   "outputs": [
    {
     "data": {
      "text/plain": [
       "defined \u001b[32mfunction\u001b[39m \u001b[36mcurry\u001b[39m\n",
       "defined \u001b[32mfunction\u001b[39m \u001b[36muncurry\u001b[39m\n",
       "defined \u001b[32mfunction\u001b[39m \u001b[36mcompose\u001b[39m"
      ]
     },
     "execution_count": 23,
     "metadata": {},
     "output_type": "execute_result"
    }
   ],
   "source": [
    "// exercise4\n",
    "// Currying\n",
    "def curry[A, B, C](f: (A, B) => C): A => (B => C) = \n",
    "  a => b => f(a, b)\n",
    "\n",
    "// exercise5\n",
    "// Uncurrying\n",
    "def uncurry[A, B, C](f: A => B => C): (A, B) => C = \n",
    "  (a, b) => f(a)(b)\n",
    "\n",
    "// exercise6\n",
    "// compose\n",
    "def compose[A, B, C](f: B => C, g: A => B): A => C = \n",
    "  a => f(g(a))"
   ]
  },
  {
   "cell_type": "markdown",
   "metadata": {},
   "source": [
    "## Conclusion\n",
    "\n",
    "- some Scala\n",
    "- some basic concepts in FP\n",
    "- one can often simply 'follow the types' to the correct implementation"
   ]
  }
 ],
 "metadata": {
  "kernelspec": {
   "display_name": "Scala",
   "language": "scala",
   "name": "scala"
  },
  "language_info": {
   "codemirror_mode": "text/x-scala",
   "file_extension": ".scala",
   "mimetype": "text/x-scala",
   "name": "scala211",
   "nbconvert_exporter": "script",
   "pygments_lexer": "scala",
   "version": "2.11.11"
  }
 },
 "nbformat": 4,
 "nbformat_minor": 2
}
