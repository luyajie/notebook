{
 "cells": [
  {
   "cell_type": "markdown",
   "metadata": {},
   "source": [
    "# 2 Getting started\n",
    "\n",
    "## Introduction\n",
    "\n",
    "**Higher-order functions**: takes other functions as arguments, and may return functions as the output.\n",
    "\n",
    "## Example Scala Program"
   ]
  },
  {
   "cell_type": "code",
   "execution_count": 5,
   "metadata": {},
   "outputs": [
    {
     "data": {
      "text/plain": [
       "defined \u001b[32mobject\u001b[39m \u001b[36mMyModular\u001b[39m"
      ]
     },
     "execution_count": 5,
     "metadata": {},
     "output_type": "execute_result"
    }
   ],
   "source": [
    "// A comment\n",
    "/* Another comment */\n",
    "/** A documentation comment */\n",
    "\n",
    "object MyModular {\n",
    "\n",
    "    def abs(n: Int): Int = \n",
    "        if (n < 0) -n\n",
    "        else n\n",
    "    \n",
    "    private def formatAbs(x: Int) = {\n",
    "        val msg = \"The absolute value of %d is %d\"\n",
    "        msg.format(x, abs(x))\n",
    "    }\n",
    "    \n",
    "    def main(args: Array[String]): Unit = \n",
    "        println(formatAbs(-42))\n",
    "}"
   ]
  },
  {
   "cell_type": "code",
   "execution_count": 6,
   "metadata": {},
   "outputs": [
    {
     "name": "stdout",
     "output_type": "stream",
     "text": [
      "The absolute value of -42 is 42\n"
     ]
    }
   ],
   "source": [
    "MyModular.main(Array())"
   ]
  },
  {
   "cell_type": "markdown",
   "metadata": {},
   "source": [
    "## 2.4 Modular, objects and namespaces\n",
    "\n",
    "A *object* whose primary purpose is giving its members a namespace is sometimes called a *modular*\n",
    "\n",
    "\n",
    "## 2.5 Funxiton objects\n",
    "\n",
    "A example to write loop without mutation:"
   ]
  },
  {
   "cell_type": "code",
   "execution_count": 9,
   "metadata": {},
   "outputs": [
    {
     "data": {
      "text/plain": [
       "defined \u001b[32mfunction\u001b[39m \u001b[36mfactorial\u001b[39m\n",
       "defined \u001b[32mfunction\u001b[39m \u001b[36mabs\u001b[39m\n",
       "\u001b[36mres8_2\u001b[39m: \u001b[32mInt\u001b[39m = \u001b[32m3628800\u001b[39m"
      ]
     },
     "execution_count": 9,
     "metadata": {},
     "output_type": "execute_result"
    }
   ],
   "source": [
    "def factorial(n: Int): Int = {\n",
    "    def go(n: Int, acc: Int): Int = \n",
    "        if (n <=0 ) acc\n",
    "        else go(n-1, n*acc)\n",
    "\n",
    "    go(n, 1)\n",
    "}\n",
    "\n",
    "def abs(n: Int): Int = {\n",
    "    if (n <= 0) -n\n",
    "    else n\n",
    "}\n",
    "\n",
    "factorial(10)"
   ]
  },
  {
   "cell_type": "code",
   "execution_count": 12,
   "metadata": {},
   "outputs": [
    {
     "name": "stdout",
     "output_type": "stream",
     "text": [
      "The absolutie value of -42 is 42\n",
      "The factorial of 7 is 5040\n",
      "The increment of 7 is 8\n"
     ]
    },
    {
     "data": {
      "text/plain": [
       "defined \u001b[32mfunction\u001b[39m \u001b[36mformatResult\u001b[39m\n",
       "defined \u001b[32mfunction\u001b[39m \u001b[36mmain\u001b[39m"
      ]
     },
     "execution_count": 12,
     "metadata": {},
     "output_type": "execute_result"
    }
   ],
   "source": [
    "// exercise\n",
    "def formatResult(name: String, n: Int, f: Int => Int) = {\n",
    "    val msg = \"The %s of %d is %s\"\n",
    "    msg.format(name, n, f(n))\n",
    "}\n",
    "\n",
    "def main(args: Array[String]): Unit = {\n",
    "    println(formatResult(\"absolutie value\", -42, abs))\n",
    "    println(formatResult(\"factorial\", 7, factorial))\n",
    "    // annonymous functions\n",
    "    println(formatResult(\"increment\", 7, (x: Int) => x + 1))\n",
    "}\n",
    "\n",
    "main(Array())"
   ]
  },
  {
   "cell_type": "code",
   "execution_count": null,
   "metadata": {
    "collapsed": true
   },
   "outputs": [],
   "source": [
    "// Polymorphic functions\n"
   ]
  }
 ],
 "metadata": {
  "kernelspec": {
   "display_name": "Scala",
   "language": "scala",
   "name": "scala"
  },
  "language_info": {
   "codemirror_mode": "text/x-scala",
   "file_extension": ".scala",
   "mimetype": "text/x-scala",
   "name": "scala211",
   "nbconvert_exporter": "script",
   "pygments_lexer": "scala",
   "version": "2.11.11"
  }
 },
 "nbformat": 4,
 "nbformat_minor": 2
}
