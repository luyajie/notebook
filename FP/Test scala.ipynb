{
 "cells": [
  {
   "cell_type": "code",
   "execution_count": 1,
   "metadata": {},
   "outputs": [
    {
     "name": "stdout",
     "output_type": "stream",
     "text": [
      "Hello, World!\n"
     ]
    }
   ],
   "source": [
    "// Test scala env.\n",
    "println(\"Hello, Scala!\")"
   ]
  },
  {
   "cell_type": "markdown",
   "metadata": {},
   "source": [
    "## 1.1 The fundamental premise of functional programming\n",
    "\n",
    "Construct programs using functions that have no side effects.\n",
    "\n",
    "## What is a functions?\n",
    "\n",
    "A function with input type A and output type B (written in Scala as a single type: A => B ) is a computation which relates every value a of type A to exactly one value b of type B such that b is determined solely by the value of a .\n",
    "\n",
    "For example, a function intToString having type `Int => String` will take every integer to a corresponding string. Furthermore, if it really is a function, **it will do nothing else.**\n",
    "\n",
    "In other words, a function has no observable effect on the execution of the program other than to compute a result given its inputs; **we say that it has no side effects.**\n",
    "\n",
    "We can formalize this idea of pure functions by using the concept of **referential transparency (RT)**: _in any program, the expression can be replaced by its result without changing the meaning of the program._\n",
    "\n",
    "Here is an example of RT and non-RT:"
   ]
  },
  {
   "cell_type": "code",
   "execution_count": 2,
   "metadata": {},
   "outputs": [
    {
     "data": {
      "text/plain": [
       "\u001b[36mx\u001b[39m: \u001b[32mString\u001b[39m = \u001b[32m\"Hello, Scala!\"\u001b[39m\n",
       "\u001b[36mr1\u001b[39m: \u001b[32mString\u001b[39m = \u001b[32m\"!alacS ,olleH\"\u001b[39m\n",
       "\u001b[36mr2\u001b[39m: \u001b[32mString\u001b[39m = \u001b[32m\"!alacS ,olleH\"\u001b[39m"
      ]
     },
     "execution_count": 2,
     "metadata": {},
     "output_type": "execute_result"
    }
   ],
   "source": [
    "val x = \"Hello, Scala!\"\n",
    "val r1 = x.reverse\n",
    "val r2 = x.reverse"
   ]
  },
  {
   "cell_type": "code",
   "execution_count": 4,
   "metadata": {},
   "outputs": [
    {
     "data": {
      "text/plain": [
       "\u001b[36mr1\u001b[39m: \u001b[32mString\u001b[39m = \u001b[32m\"!alacS ,olleH\"\u001b[39m\n",
       "\u001b[36mr2\u001b[39m: \u001b[32mString\u001b[39m = \u001b[32m\"!alacS ,olleH\"\u001b[39m"
      ]
     },
     "execution_count": 4,
     "metadata": {},
     "output_type": "execute_result"
    }
   ],
   "source": [
    "// Now replace all the occurrences of the term x with the expression\n",
    "// referenced by x (its definition), as follows:\n",
    "val r1 = \"Hello, Scala!\".reverse\n",
    "var r2 = \"Hello, Scala!\".reverse\n",
    "// The values of r1 and r2 are the same as before, so x was referentially transparent.\n",
    "// NOTE: x is a function!"
   ]
  },
  {
   "cell_type": "code",
   "execution_count": 5,
   "metadata": {},
   "outputs": [
    {
     "data": {
      "text/plain": [
       "\u001b[36mx\u001b[39m: \u001b[32mStringBuilder\u001b[39m = \u001b[33mStringBuilder\u001b[39m(\u001b[32m'H'\u001b[39m, \u001b[32m'e'\u001b[39m, \u001b[32m'l'\u001b[39m, \u001b[32m'l'\u001b[39m, \u001b[32m'o'\u001b[39m, \u001b[32m','\u001b[39m, \u001b[32m' '\u001b[39m, \u001b[32m'S'\u001b[39m, \u001b[32m'c'\u001b[39m, \u001b[32m'a'\u001b[39m, \u001b[32m'l'\u001b[39m, \u001b[32m'a'\u001b[39m, \u001b[32m'!'\u001b[39m)\n",
       "\u001b[36my\u001b[39m: \u001b[32mStringBuilder\u001b[39m = \u001b[33mStringBuilder\u001b[39m(\u001b[32m'H'\u001b[39m, \u001b[32m'e'\u001b[39m, \u001b[32m'l'\u001b[39m, \u001b[32m'l'\u001b[39m, \u001b[32m'o'\u001b[39m, \u001b[32m','\u001b[39m, \u001b[32m' '\u001b[39m, \u001b[32m'S'\u001b[39m, \u001b[32m'c'\u001b[39m, \u001b[32m'a'\u001b[39m, \u001b[32m'l'\u001b[39m, \u001b[32m'a'\u001b[39m, \u001b[32m'!'\u001b[39m)\n",
       "\u001b[36mr1\u001b[39m: \u001b[32mString\u001b[39m = \u001b[32m\"Hello, Scala!\"\u001b[39m\n",
       "\u001b[36mr2\u001b[39m: \u001b[32mString\u001b[39m = \u001b[32m\"Hello, Scala!\"\u001b[39m"
      ]
     },
     "execution_count": 5,
     "metadata": {},
     "output_type": "execute_result"
    }
   ],
   "source": [
    "// Non-RT case\n",
    "var x = new StringBuilder(\"Hello\")\n",
    "var y = x.append(\", Scala!\")\n",
    "var r1 = y.toString\n",
    "var r2 = y.toString"
   ]
  },
  {
   "cell_type": "code",
   "execution_count": 6,
   "metadata": {},
   "outputs": [
    {
     "data": {
      "text/plain": [
       "\u001b[36mx\u001b[39m: \u001b[32mStringBuilder\u001b[39m = \u001b[33mStringBuilder\u001b[39m(\n",
       "  \u001b[32m'H'\u001b[39m,\n",
       "  \u001b[32m'e'\u001b[39m,\n",
       "  \u001b[32m'l'\u001b[39m,\n",
       "  \u001b[32m'l'\u001b[39m,\n",
       "  \u001b[32m'o'\u001b[39m,\n",
       "  \u001b[32m','\u001b[39m,\n",
       "  \u001b[32m' '\u001b[39m,\n",
       "  \u001b[32m'W'\u001b[39m,\n",
       "  \u001b[32m'o'\u001b[39m,\n",
       "  \u001b[32m'r'\u001b[39m,\n",
       "  \u001b[32m'l'\u001b[39m,\n",
       "\u001b[33m...\u001b[39m\n",
       "\u001b[36mr1\u001b[39m: \u001b[32mString\u001b[39m = \u001b[32m\"Hello, World\"\u001b[39m\n",
       "\u001b[36mr2\u001b[39m: \u001b[32mString\u001b[39m = \u001b[32m\"Hello, World, World\"\u001b[39m"
      ]
     },
     "execution_count": 6,
     "metadata": {},
     "output_type": "execute_result"
    }
   ],
   "source": [
    "// Let's now see how this side effect breaks RT.\n",
    "// Replace all y with expression instead.\n",
    "val x = new StringBuilder(\"Hello\")\n",
    "val r1 = x.append(\", World\").toString\n",
    "var r2 = x.append(\", World\").toString"
   ]
  },
  {
   "cell_type": "markdown",
   "metadata": {},
   "source": [
    "## 1.4 Why Functional programming?\n",
    "\n",
    "FP buys us greater modularity! Why?\n",
    "\n",
    "A pure function is modular and composable because it separates the logic of the computation itself from \"what to do with the result\" and \"how to obtain the input\"; it is a black box.\n",
    "\n",
    "Here is an example:"
   ]
  },
  {
   "cell_type": "code",
   "execution_count": 7,
   "metadata": {},
   "outputs": [
    {
     "data": {
      "text/plain": [
       "defined \u001b[32mclass\u001b[39m \u001b[36mPlayer\u001b[39m\n",
       "defined \u001b[32mfunction\u001b[39m \u001b[36mprintWinner\u001b[39m\n",
       "defined \u001b[32mfunction\u001b[39m \u001b[36mdeclareWinner\u001b[39m"
      ]
     },
     "execution_count": 7,
     "metadata": {},
     "output_type": "execute_result"
    }
   ],
   "source": [
    "case class Player(name: String, score: Int)  // data type Player\n",
    "\n",
    "def printWinner(p: Player): Unit = \n",
    "  println(p.name + \" is the winner!\")\n",
    "\n",
    "def declareWinner(p1: Player, p2: Player): Unit =   // takes twp Players\n",
    "  if (p1.score > p2.score) printWinner(p1)\n",
    "  else printWinner(p2)"
   ]
  },
  {
   "cell_type": "code",
   "execution_count": 8,
   "metadata": {},
   "outputs": [
    {
     "name": "stdout",
     "output_type": "stream",
     "text": [
      "Bob is the winner!\n"
     ]
    },
    {
     "data": {
      "text/plain": [
       "\u001b[36msue\u001b[39m: \u001b[32mPlayer\u001b[39m = \u001b[33mPlayer\u001b[39m(\u001b[32m\"Sue\"\u001b[39m, \u001b[32m7\u001b[39m)\n",
       "\u001b[36mbob\u001b[39m: \u001b[32mPlayer\u001b[39m = \u001b[33mPlayer\u001b[39m(\u001b[32m\"Bob\"\u001b[39m, \u001b[32m8\u001b[39m)"
      ]
     },
     "execution_count": 8,
     "metadata": {},
     "output_type": "execute_result"
    }
   ],
   "source": [
    "val sue = Player(\"Sue\", 7)\n",
    "val bob = Player(\"Bob\", 8)\n",
    "declareWinner(sue, bob)"
   ]
  },
  {
   "cell_type": "code",
   "execution_count": 9,
   "metadata": {},
   "outputs": [
    {
     "name": "stdout",
     "output_type": "stream",
     "text": [
      "Joe is the winner!\n"
     ]
    },
    {
     "data": {
      "text/plain": [
       "defined \u001b[32mfunction\u001b[39m \u001b[36mwinner\u001b[39m\n",
       "defined \u001b[32mfunction\u001b[39m \u001b[36mdeclareWinner\u001b[39m\n",
       "\u001b[36mplayers\u001b[39m: \u001b[32mList\u001b[39m[\u001b[32mPlayer\u001b[39m] = \u001b[33mList\u001b[39m(\u001b[33mPlayer\u001b[39m(\u001b[32m\"Sue\"\u001b[39m, \u001b[32m7\u001b[39m), \u001b[33mPlayer\u001b[39m(\u001b[32m\"Bob\"\u001b[39m, \u001b[32m8\u001b[39m), \u001b[33mPlayer\u001b[39m(\u001b[32m\"Joe\"\u001b[39m, \u001b[32m9\u001b[39m))\n",
       "\u001b[36mp\u001b[39m: \u001b[32mPlayer\u001b[39m = \u001b[33mPlayer\u001b[39m(\u001b[32m\"Joe\"\u001b[39m, \u001b[32m9\u001b[39m)"
      ]
     },
     "execution_count": 9,
     "metadata": {},
     "output_type": "execute_result"
    }
   ],
   "source": [
    "/*\n",
    " * In above case, the logic part (compare the score) and the print part\n",
    " * are in the same function declareWinner.\n",
    " * \n",
    " * \n",
    " * How to reuse the function? How to seperate the logic and print?\n",
    " */\n",
    "\n",
    "def winner(p1: Player, p2: Player): Player = \n",
    "  if (p1.score > p2.score) p1 else p2\n",
    "\n",
    "def declareWinner(p1: Player, p2: Player): Unit = \n",
    "  printWinner(winner(p1, p2))\n",
    "\n",
    "val players = List(Player(\"Sue\", 7),\n",
    "                   Player(\"Bob\", 8),\n",
    "                   Player(\"Joe\", 9))\n",
    "\n",
    "val p = players.reduceLeft(winner)\n",
    "\n",
    "printWinner(p)"
   ]
  },
  {
   "cell_type": "code",
   "execution_count": null,
   "metadata": {
    "collapsed": true
   },
   "outputs": [],
   "source": []
  }
 ],
 "metadata": {
  "kernelspec": {
   "display_name": "Scala",
   "language": "scala",
   "name": "scala"
  },
  "language_info": {
   "codemirror_mode": "text/x-scala",
   "file_extension": ".scala",
   "mimetype": "text/x-scala",
   "name": "scala211",
   "nbconvert_exporter": "script",
   "pygments_lexer": "scala",
   "version": "2.11.11"
  }
 },
 "nbformat": 4,
 "nbformat_minor": 2
}
