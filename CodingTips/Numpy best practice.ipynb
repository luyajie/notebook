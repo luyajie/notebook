{
 "cells": [
  {
   "cell_type": "markdown",
   "metadata": {},
   "source": [
    "# Some tests and good practice of Numpy\n",
    "\n",
    "## 1. Why numpy? Python is \"slow\"\n",
    "\n",
    "The simple reason is that Python a dynamically typed, interpreted language, where values are stored not in dense buffers but in scattered objects. So every thing in python is an object, even premitive types such as `int` or `float`. The objects in a list un-orderly stored in the memory... So it is reasonable that Python is slow. However, Pyhon is fast in terms of pototyping everything. In addtion, Python can easily call other compiled-type library to boost up! `Numpy` is one of the choice to boost up the code specified for matrix calculation. In this case, you get both fast developing and speed.\n",
    "\n",
    "So, why `Numpy` is fast? Or why the array in numpy is faster than python list object? Here is a good explaination from reference 2.\n",
    "\n",
    "![Diff](http://jakevdp.github.io/images/array_vs_list.png)\n",
    "\n",
    "\n",
    "\n",
    "\n",
    "**References**\n",
    "\n",
    "1. [Getting the Best Performance out of NumPy](http://ipython-books.github.io/featured-01/)\n",
    "2. [Why Python is slow?](https://jakevdp.github.io/blog/2014/05/09/why-python-is-slow/) "
   ]
  },
  {
   "cell_type": "markdown",
   "metadata": {},
   "source": [
    "## 2. Use numpy the right way\n",
    "\n",
    "### 2.1 C type or F type?\n",
    "\n",
    "C-type n-demension array is row based, while F-type is column based, as this figure shows:\n",
    "\n",
    "![C and F](http://ipython-books.github.io/images/layout.png)\n",
    "\n",
    "Therefore, if we do more based on row, it is better to use C-type array. Following code gives the performance:"
   ]
  },
  {
   "cell_type": "code",
   "execution_count": 19,
   "metadata": {},
   "outputs": [
    {
     "name": "stdout",
     "output_type": "stream",
     "text": [
      "479 µs ± 4.33 µs per loop (mean ± std. dev. of 7 runs, 1000 loops each)\n",
      "766 µs ± 19 µs per loop (mean ± std. dev. of 7 runs, 1000 loops each)\n"
     ]
    }
   ],
   "source": [
    "import numpy as np\n",
    "\n",
    "a = np.zeros((2000, 2000), order='C')\n",
    "b = np.zeros((2000, 2000), order='F')\n",
    "\n",
    "def f1(a):\n",
    "    np.concatenate((a, a), axis=0)  # on row\n",
    "\n",
    "def f2(b):\n",
    "    np.concatenate((b, b), axis=0)  # on row\n",
    "\n",
    "%timeit f1(a)\n",
    "%timeit f2(b)"
   ]
  },
  {
   "cell_type": "markdown",
   "metadata": {},
   "source": [
    "### "
   ]
  }
 ],
 "metadata": {
  "kernelspec": {
   "display_name": "notebook3",
   "language": "python",
   "name": "notebook3"
  },
  "language_info": {
   "codemirror_mode": {
    "name": "ipython",
    "version": 3
   },
   "file_extension": ".py",
   "mimetype": "text/x-python",
   "name": "python",
   "nbconvert_exporter": "python",
   "pygments_lexer": "ipython3",
   "version": "3.5.3"
  }
 },
 "nbformat": 4,
 "nbformat_minor": 2
}
