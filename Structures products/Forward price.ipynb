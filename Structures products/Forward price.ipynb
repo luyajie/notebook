{
 "cells": [
  {
   "attachments": {
    "image.png": {
     "image/png": "[encoded data removed]"
    }
   },
   "cell_type": "markdown",
   "metadata": {},
   "source": [
    "## Forward price\n",
    "\n",
    "If the underlying asset is tradable and a dividend exists, the forward price is given by:\n",
    "\n",
    "![image.png](attachment:image.png)\n",
    "\n",
    "where\n",
    "\n",
    "{\\displaystyle F} F is the forward price to be paid at time   \n",
    "{\\displaystyle T} T  \n",
    "{\\displaystyle e^{x}} e^{x} is the exponential function (used for calculating continuous compounding interests)  \n",
    "{\\displaystyle r} r is the risk-free interest rate  \n",
    "{\\displaystyle q} q is the cost-of-carry  \n",
    "{\\displaystyle S_{0}} S_{0} is the spot price of the asset (i.e. what it would sell for at time 0)  \n",
    "{\\displaystyle D_{i}} D_{i} is a dividend that is guaranteed to be paid at time   {\\displaystyle t_{i}} t_{i} where {\\displaystyle 0<t_{i}<T.} 0<t_{i}<T.  "
   ]
  },
  {
   "cell_type": "code",
   "execution_count": null,
   "metadata": {
    "collapsed": true
   },
   "outputs": [],
   "source": []
  }
 ],
 "metadata": {
  "kernelspec": {
   "display_name": "Python 3",
   "language": "python",
   "name": "python3"
  },
  "language_info": {
   "codemirror_mode": {
    "name": "ipython",
    "version": 3
   },
   "file_extension": ".py",
   "mimetype": "text/x-python",
   "name": "python",
   "nbconvert_exporter": "python",
   "pygments_lexer": "ipython3",
   "version": "3.5.2"
  }
 },
 "nbformat": 4,
 "nbformat_minor": 2
}
