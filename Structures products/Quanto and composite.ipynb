{
 "cells": [
  {
   "cell_type": "markdown",
   "metadata": {},
   "source": [
    "# Quanto and Composite Options\n",
    "\n",
    "Quanto:  \n",
    "In a predifined rate. \n",
    "\n",
    "Composite:  \n",
    "At precvailing market rate.\n",
    "\n",
    "Here is the reference:  \n",
    "https://buildingarks.files.wordpress.com/2014/06/db-quanto-and-compo-options.pdf"
   ]
  },
  {
   "cell_type": "code",
   "execution_count": null,
   "metadata": {
    "collapsed": true
   },
   "outputs": [],
   "source": []
  }
 ],
 "metadata": {
  "kernelspec": {
   "display_name": "Python 3",
   "language": "python",
   "name": "python3"
  },
  "language_info": {
   "codemirror_mode": {
    "name": "ipython",
    "version": 3
   },
   "file_extension": ".py",
   "mimetype": "text/x-python",
   "name": "python",
   "nbconvert_exporter": "python",
   "pygments_lexer": "ipython3",
   "version": "3.5.2"
  }
 },
 "nbformat": 4,
 "nbformat_minor": 2
}
