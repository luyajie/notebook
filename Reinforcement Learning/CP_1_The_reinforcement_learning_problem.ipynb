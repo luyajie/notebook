{
 "cells": [
  {
   "cell_type": "markdown",
   "metadata": {},
   "source": [
    "## Reinforcement Learning\n",
    "\n",
    "Reinforcement learning problems involve learning what to do — how to map situations to actions — so as to maximize a numerical reword signal. In an essential way these are closed-loop problems because the learning system’s actions influence its later inputs.\n",
    "\n",
    "\n",
    "## Elements of RF\n",
    "\n",
    "- agent\n",
    "- environment\n",
    "\n",
    "subelements:\n",
    "\n",
    "- ploicy\n",
    "- reward signal\n",
    "- value function\n",
    "- model of envronment\n",
    "\n",
    "A **policy** is a mapping from perceived states of the environment to actions to be taken when in those states.\n",
    "\n",
    "The policy is the core of a reinforcement learning agent in the sense that it alone is sufficient to determine behavior. In general, policies may be stochastic.\n",
    "\n",
    "A **reward signal** defines the goal in a reinforcement learning problem. \n",
    "\n",
    "On each time step, the environment sends to the reinforcement learning agent a single number, a reward. The agent’s sole objective is to maximize the total reward it receives over the long run. \n",
    "\n",
    "A **value function** specifies what is good *in the long run*.\n",
    "\n",
    "the value of a state is the total amount of reward an agent can expect to accumulate over the future, starting from that state."
   ]
  }
 ],
 "metadata": {
  "kernelspec": {
   "display_name": "Python 3",
   "language": "python",
   "name": "python3"
  },
  "language_info": {
   "codemirror_mode": {
    "name": "ipython",
    "version": 3
   },
   "file_extension": ".py",
   "mimetype": "text/x-python",
   "name": "python",
   "nbconvert_exporter": "python",
   "pygments_lexer": "ipython3",
   "version": "3.5.2"
  }
 },
 "nbformat": 4,
 "nbformat_minor": 2
}
