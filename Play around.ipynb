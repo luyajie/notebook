{
 "cells": [
  {
   "cell_type": "markdown",
   "metadata": {},
   "source": [
    "## Some questions\n",
    "\n",
    "### 1. Change coints\n",
    "\n",
    "**Problem:**  \n",
    "\n",
    "Assume we have $n$ kind of coins as change $\\{c_1, c_2, ..., c_n\\}$, $m$ is the amount of money needs to change. How many methods are there to change the money?\n",
    "\n",
    "**Example**\n",
    "\n",
    "n = 3, {1, 2, 5}  \n",
    "m = 100"
   ]
  },
  {
   "cell_type": "code",
   "execution_count": 8,
   "metadata": {},
   "outputs": [
    {
     "name": "stdout",
     "output_type": "stream",
     "text": [
      "551\n"
     ]
    }
   ],
   "source": [
    "# change coins\n",
    "# TODO: find all the combination instead of just number of combination?\n",
    "# TODO: find the min number coint used?\n",
    "\n",
    "def change_coins(coins: list, n: int, m: int):\n",
    "    \"\"\"\n",
    "\n",
    "    :param m: the amount of money\n",
    "    :param n: the type of coins\n",
    "    \"\"\"\n",
    "    dp = [0 for i in range(m+1)]\n",
    "    dp[0] = 1  # base case, m = 0, method is 1\n",
    "\n",
    "    for coin in coins:\n",
    "        for _ in range(m):\n",
    "            money = _ + 1\n",
    "            dp[money] += dp[money-coin]\n",
    "\n",
    "    return dp[m]\n",
    "    \n",
    "# test\n",
    "coins = [1, 2, 5]\n",
    "n = 3\n",
    "m = 100\n",
    "print(change_coins(coins, n, m))"
   ]
  },
  {
   "cell_type": "markdown",
   "metadata": {},
   "source": [
    "## 2. Plant flowers\n",
    "\n",
    "**Problem:**\n",
    "\n",
    "You can painting a fence made of N boards. You have 2 buckets of paint - black and white. Ypu can not paint more than 2 adjacent voards with the same paint. How many ways are there to paint the fence?"
   ]
  },
  {
   "cell_type": "markdown",
   "metadata": {},
   "source": [
    "## 3. Jumping rabit!\n",
    "\n",
    "**Problems:** \n",
    "\n",
    "THe road map for the rabit is a list with length of $m$, the rabit can either jump 1 step or 2 steps per jump. How many jumping methods are there for the rabit reach the end (never jump back)."
   ]
  },
  {
   "cell_type": "code",
   "execution_count": 11,
   "metadata": {},
   "outputs": [
    {
     "name": "stdout",
     "output_type": "stream",
     "text": [
      "8\n"
     ]
    }
   ],
   "source": [
    "# 3. Jumping rabit\n",
    "mem = {}\n",
    "def jump_rabit(m: int):\n",
    "    \"\"\"\"\"\"\n",
    "\n",
    "    if m <= 3:\n",
    "        return m-1\n",
    "\n",
    "    if m in mem.keys():\n",
    "        return mem[m]\n",
    "    else:\n",
    "        mem[m] = jump_rabit(m-1) + jump_rabit(m-2)\n",
    "\n",
    "    return mem[m]\n",
    "\n",
    "# test\n",
    "m = 6\n",
    "print(jump_rabit(m))"
   ]
  },
  {
   "cell_type": "code",
   "execution_count": null,
   "metadata": {
    "collapsed": true
   },
   "outputs": [],
   "source": []
  }
 ],
 "metadata": {
  "kernelspec": {
   "display_name": "Python3 (notebook)",
   "language": "python",
   "name": "notebook3"
  },
  "language_info": {
   "codemirror_mode": {
    "name": "ipython",
    "version": 3
   },
   "file_extension": ".py",
   "mimetype": "text/x-python",
   "name": "python",
   "nbconvert_exporter": "python",
   "pygments_lexer": "ipython3",
   "version": "3.5.2"
  }
 },
 "nbformat": 4,
 "nbformat_minor": 2
}
